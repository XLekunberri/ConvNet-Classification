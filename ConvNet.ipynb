{
 "cells": [
  {
   "cell_type": "markdown",
   "metadata": {},
   "source": [
    "# Galaxy classification using convolutional networks\n",
    "\n",
    "Authors: Xabier Lekunberri and Iker Ortiz"
   ]
  },
  {
   "cell_type": "markdown",
   "metadata": {},
   "source": [
    "## Importing libraries"
   ]
  },
  {
   "cell_type": "code",
   "execution_count": 41,
   "metadata": {
    "collapsed": true
   },
   "outputs": [],
   "source": [
    "import os\n",
    "import sys\n",
    "import numpy as np\n",
    "import pandas as pd\n",
    "from scipy.misc import imresize\n",
    "from sklearn.model_selection import train_test_split\n",
    "import matplotlib.image as mpimg\n",
    "import keras\n",
    "from etaprogress.progress import ProgressBar"
   ]
  },
  {
   "cell_type": "markdown",
   "metadata": {},
   "source": [
    "## Global variables"
   ]
  },
  {
   "cell_type": "code",
   "execution_count": 42,
   "metadata": {
    "collapsed": true
   },
   "outputs": [],
   "source": [
    "# Initial shape of the images: 424x424\n",
    "\n",
    "# Desired shape of input\n",
    "shape_x, shape_y = 212, 212\n",
    "# Number of channels of the images\n",
    "channels = 3"
   ]
  },
  {
   "cell_type": "markdown",
   "metadata": {},
   "source": [
    "## Defining auxiliary functions"
   ]
  },
  {
   "cell_type": "code",
   "execution_count": 43,
   "metadata": {
    "collapsed": true
   },
   "outputs": [],
   "source": [
    "def resize_image(image, target_width=shape_x, target_height=shape_y, max_zoom=0.2):\n",
    "    \"\"\"Zooms and crops the image randomly for data augmentation.\"\"\"\n",
    "\n",
    "    # First, let's find the largest bounding box with the target size ratio that fits within the image\n",
    "    height = image.shape[0]\n",
    "    width = image.shape[1]\n",
    "    image_ratio = width / height\n",
    "    target_image_ratio = target_width / target_height\n",
    "    crop_vertically = image_ratio < target_image_ratio\n",
    "    crop_width = width if crop_vertically else int(height * target_image_ratio)\n",
    "    crop_height = int(width / target_image_ratio) if crop_vertically else height\n",
    "\n",
    "    # Now let's shrink this bounding box by a random factor (dividing the dimensions by a random number\n",
    "    # between 1.0 and 1.0 + `max_zoom`.\n",
    "    resize_factor = np.random.rand() * max_zoom + 1.0\n",
    "    crop_width = int(crop_width / resize_factor)\n",
    "    crop_height = int(crop_height / resize_factor)\n",
    "\n",
    "    # Next, we can select a random location on the image for this bounding box.\n",
    "    x0 = np.random.randint(0, width - crop_width)\n",
    "    y0 = np.random.randint(0, height - crop_height)\n",
    "    x1 = x0 + crop_width\n",
    "    y1 = y0 + crop_height\n",
    "\n",
    "    # Let's crop the image using the random bounding box we built.\n",
    "    image = image[y0:y1, x0:x1, :]\n",
    "\n",
    "    # Let's also flip the image horizontally with 50% probability:\n",
    "    if np.random.rand() < 0.5:\n",
    "        image = np.fliplr(image)\n",
    "\n",
    "    # Now, let's resize the image to the target dimensions.\n",
    "    image = imresize(image, (target_width, target_height))\n",
    "\n",
    "    # Finally, let's ensure that the colors are represented as\n",
    "    # 32-bit floats ranging from 0.0 to 1.0 (for now):\n",
    "    return image.astype(np.uint8)\n",
    "\n",
    "\n",
    "def create_model():\n",
    "    \"\"\"\n",
    "    It builds a Convolutional Neural Networks using the keras library\n",
    "    :return: A keras model\n",
    "    \"\"\"\n",
    "    \n",
    "    # We define a neural network\n",
    "    model = keras.Sequential()\n",
    "    \n",
    "    # Then, we will be adding some layers\n",
    "\n",
    "    # Layer 1\n",
    "    model.add(keras.layers.Convolution2D(48, [5, 5], input_shape=(shape_x, shape_y, channels), activation='relu',\n",
    "                                         name='conv1'))\n",
    "    model.add(keras.layers.MaxPooling2D([3, 3], [3, 3], name='pool1'))\n",
    "\n",
    "    # Layer 2\n",
    "    model.add(keras.layers.Convolution2D(96, [5, 5], activation='relu', name='conv2'))\n",
    "    model.add(keras.layers.MaxPooling2D([2, 2], [2, 2], name='pool2'))\n",
    "\n",
    "    # Layer 3\n",
    "    model.add(keras.layers.Convolution2D(192, [3, 3], activation='relu', name='conv3'))\n",
    "\n",
    "    # Layer 4\n",
    "    model.add(keras.layers.Convolution2D(192, [3, 3], activation='relu', name='conv4'))\n",
    "\n",
    "    # Layer 5\n",
    "    model.add(keras.layers.Convolution2D(384, [3, 3], activation='relu', name='conv5'))\n",
    "\n",
    "    # Layer 6\n",
    "    model.add(keras.layers.Convolution2D(384, [3, 3], activation='relu', name='conv6'))\n",
    "    model.add(keras.layers.MaxPooling2D([3, 3], [3, 3], name='pool6'))\n",
    "\n",
    "    # Layer 7\n",
    "    model.add(keras.layers.Dense(2048, activation='relu', name='dense7'))\n",
    "    model.add(keras.layers.Dropout(0.5, name='drop7'))\n",
    "\n",
    "    # Layer 8\n",
    "    model.add(keras.layers.Dense(2048, activation='relu', name='dense8'))\n",
    "    model.add(keras.layers.Dropout(0.5, name='drop8'))\n",
    "    model.add(keras.layers.Flatten(name='flat8'))\n",
    "\n",
    "    # Layer 9\n",
    "    model.add(keras.layers.Dense(37, activation='relu', name='dense9'))\n",
    "\n",
    "    # We will use a Stochasric Gradient Descent optimizer\n",
    "    sgd = keras.optimizers.SGD(lr=0.1)\n",
    "    \n",
    "    # We will build the network, which uses the Mean Square Error loss function\n",
    "    model.compile(loss='mean_squared_error', optimizer=sgd)\n",
    "\n",
    "    return model\n"
   ]
  },
  {
   "cell_type": "markdown",
   "metadata": {},
   "source": [
    "## Preprocessing\n",
    "\n",
    "We will use the Pandas library to import the $\\texttt{solutions.csv}$ from the file $\\texttt{training_solutions_rev1.zip}$ at:<br>\n",
    "https://www.kaggle.com/c/galaxy-zoo-the-galaxy-challenge/data"
   ]
  },
  {
   "cell_type": "code",
   "execution_count": 44,
   "metadata": {
    "collapsed": true
   },
   "outputs": [],
   "source": [
    "# Classes for images\n",
    "solutions = \"data/solutions.csv\"\n",
    "\n",
    "# Read data from the solutions file\n",
    "df = pd.read_csv(solutions, index_col=0, header=0)\n",
    "\n",
    "# Set the indices as labels of type=str, in order to convert the labels\n",
    "# of the dataframe to:\n",
    "# Name of file - 'nameOfImage'.jpg --> Label of dataframe - 'nameOfImage'\n",
    "df.index = df.index.map(str)"
   ]
  },
  {
   "cell_type": "markdown",
   "metadata": {},
   "source": [
    "## Create the train and test set"
   ]
  },
  {
   "cell_type": "code",
   "execution_count": 45,
   "metadata": {},
   "outputs": [
    {
     "name": "stdout",
     "output_type": "stream",
     "text": [
      "Reading files...\n",
      " 60% (37369/61578) [###  ] eta 1:07:06 |\r"
     ]
    },
    {
     "ename": "KeyboardInterrupt",
     "evalue": "",
     "traceback": [
      "\u001b[0;31m---------------------------------------------------------------------------\u001b[0m",
      "\u001b[0;31mKeyboardInterrupt\u001b[0m                         Traceback (most recent call last)",
      "\u001b[0;32m<ipython-input-45-430da853c184>\u001b[0m in \u001b[0;36m<module>\u001b[0;34m()\u001b[0m\n\u001b[1;32m     12\u001b[0m \u001b[0mprint\u001b[0m\u001b[0;34m(\u001b[0m\u001b[0;34m\"Reading files...\"\u001b[0m\u001b[0;34m)\u001b[0m\u001b[0;34m\u001b[0m\u001b[0m\n\u001b[1;32m     13\u001b[0m \u001b[0;32mfor\u001b[0m \u001b[0mname\u001b[0m \u001b[0;32min\u001b[0m \u001b[0mdf\u001b[0m\u001b[0;34m.\u001b[0m\u001b[0mindex\u001b[0m\u001b[0;34m.\u001b[0m\u001b[0mvalues\u001b[0m\u001b[0;34m[\u001b[0m\u001b[0;34m:\u001b[0m\u001b[0;34m]\u001b[0m\u001b[0;34m:\u001b[0m\u001b[0;34m\u001b[0m\u001b[0m\n\u001b[0;32m---> 14\u001b[0;31m     \u001b[0mimage\u001b[0m \u001b[0;34m=\u001b[0m \u001b[0mmpimg\u001b[0m\u001b[0;34m.\u001b[0m\u001b[0mimread\u001b[0m\u001b[0;34m(\u001b[0m\u001b[0mos\u001b[0m\u001b[0;34m.\u001b[0m\u001b[0mpath\u001b[0m\u001b[0;34m.\u001b[0m\u001b[0mjoin\u001b[0m\u001b[0;34m(\u001b[0m\u001b[0;34m\"data/training\"\u001b[0m\u001b[0;34m,\u001b[0m \u001b[0mname\u001b[0m \u001b[0;34m+\u001b[0m \u001b[0;34m\".jpg\"\u001b[0m\u001b[0;34m)\u001b[0m\u001b[0;34m)\u001b[0m\u001b[0;34m[\u001b[0m\u001b[0;34m:\u001b[0m\u001b[0;34m,\u001b[0m \u001b[0;34m:\u001b[0m\u001b[0;34m,\u001b[0m \u001b[0;34m:\u001b[0m\u001b[0mchannels\u001b[0m\u001b[0;34m]\u001b[0m\u001b[0;34m\u001b[0m\u001b[0m\n\u001b[0m\u001b[1;32m     15\u001b[0m     \u001b[0mimage\u001b[0m \u001b[0;34m=\u001b[0m \u001b[0mresize_image\u001b[0m\u001b[0;34m(\u001b[0m\u001b[0mimage\u001b[0m\u001b[0;34m)\u001b[0m\u001b[0;34m\u001b[0m\u001b[0m\n\u001b[1;32m     16\u001b[0m     \u001b[0mX\u001b[0m\u001b[0;34m.\u001b[0m\u001b[0mappend\u001b[0m\u001b[0;34m(\u001b[0m\u001b[0mimage\u001b[0m\u001b[0;34m)\u001b[0m\u001b[0;34m\u001b[0m\u001b[0m\n",
      "\u001b[0;32m/home/iker/anaconda3/lib/python3.6/site-packages/matplotlib/image.py\u001b[0m in \u001b[0;36mimread\u001b[0;34m(fname, format)\u001b[0m\n\u001b[1;32m   1276\u001b[0m \u001b[0;34m\u001b[0m\u001b[0m\n\u001b[1;32m   1277\u001b[0m     \u001b[0;32mif\u001b[0m \u001b[0mext\u001b[0m \u001b[0;32mnot\u001b[0m \u001b[0;32min\u001b[0m \u001b[0mhandlers\u001b[0m\u001b[0;34m:\u001b[0m\u001b[0;34m\u001b[0m\u001b[0m\n\u001b[0;32m-> 1278\u001b[0;31m         \u001b[0mim\u001b[0m \u001b[0;34m=\u001b[0m \u001b[0mpilread\u001b[0m\u001b[0;34m(\u001b[0m\u001b[0mfname\u001b[0m\u001b[0;34m)\u001b[0m\u001b[0;34m\u001b[0m\u001b[0m\n\u001b[0m\u001b[1;32m   1279\u001b[0m         \u001b[0;32mif\u001b[0m \u001b[0mim\u001b[0m \u001b[0;32mis\u001b[0m \u001b[0;32mNone\u001b[0m\u001b[0;34m:\u001b[0m\u001b[0;34m\u001b[0m\u001b[0m\n\u001b[1;32m   1280\u001b[0m             raise ValueError('Only know how to handle extensions: %s; '\n",
      "\u001b[0;32m/home/iker/anaconda3/lib/python3.6/site-packages/matplotlib/image.py\u001b[0m in \u001b[0;36mpilread\u001b[0;34m(fname)\u001b[0m\n\u001b[1;32m   1254\u001b[0m         \u001b[0;32mexcept\u001b[0m \u001b[0mImportError\u001b[0m\u001b[0;34m:\u001b[0m\u001b[0;34m\u001b[0m\u001b[0m\n\u001b[1;32m   1255\u001b[0m             \u001b[0;32mreturn\u001b[0m \u001b[0;32mNone\u001b[0m\u001b[0;34m\u001b[0m\u001b[0m\n\u001b[0;32m-> 1256\u001b[0;31m         \u001b[0;32mwith\u001b[0m \u001b[0mImage\u001b[0m\u001b[0;34m.\u001b[0m\u001b[0mopen\u001b[0m\u001b[0;34m(\u001b[0m\u001b[0mfname\u001b[0m\u001b[0;34m)\u001b[0m \u001b[0;32mas\u001b[0m \u001b[0mimage\u001b[0m\u001b[0;34m:\u001b[0m\u001b[0;34m\u001b[0m\u001b[0m\n\u001b[0m\u001b[1;32m   1257\u001b[0m             \u001b[0;32mreturn\u001b[0m \u001b[0mpil_to_array\u001b[0m\u001b[0;34m(\u001b[0m\u001b[0mimage\u001b[0m\u001b[0;34m)\u001b[0m\u001b[0;34m\u001b[0m\u001b[0m\n\u001b[1;32m   1258\u001b[0m \u001b[0;34m\u001b[0m\u001b[0m\n",
      "\u001b[0;32m/home/iker/anaconda3/lib/python3.6/site-packages/PIL/Image.py\u001b[0m in \u001b[0;36mopen\u001b[0;34m(fp, mode)\u001b[0m\n\u001b[1;32m   2417\u001b[0m         \u001b[0mexclusive_fp\u001b[0m \u001b[0;34m=\u001b[0m \u001b[0;32mTrue\u001b[0m\u001b[0;34m\u001b[0m\u001b[0m\n\u001b[1;32m   2418\u001b[0m \u001b[0;34m\u001b[0m\u001b[0m\n\u001b[0;32m-> 2419\u001b[0;31m     \u001b[0mprefix\u001b[0m \u001b[0;34m=\u001b[0m \u001b[0mfp\u001b[0m\u001b[0;34m.\u001b[0m\u001b[0mread\u001b[0m\u001b[0;34m(\u001b[0m\u001b[0;36m16\u001b[0m\u001b[0;34m)\u001b[0m\u001b[0;34m\u001b[0m\u001b[0m\n\u001b[0m\u001b[1;32m   2420\u001b[0m \u001b[0;34m\u001b[0m\u001b[0m\n\u001b[1;32m   2421\u001b[0m     \u001b[0mpreinit\u001b[0m\u001b[0;34m(\u001b[0m\u001b[0;34m)\u001b[0m\u001b[0;34m\u001b[0m\u001b[0m\n",
      "\u001b[0;31mKeyboardInterrupt\u001b[0m: "
     ],
     "output_type": "error"
    }
   ],
   "source": [
    "# Get the length of the dataset\n",
    "total = len(df.index.values)\n",
    "bar = ProgressBar(total, max_width=40)\n",
    "\n",
    "# Create two lists\n",
    "    # X: List formed by arrays of 3 dimensions of 424x424x3,\n",
    "    # containing the pixels of the images\n",
    "    # Y: List formed by arrays of 1 dimension of 37,\n",
    "    # containing the labaels of each image\n",
    "X, Y = [], []\n",
    "i = 0\n",
    "print(\"Reading files...\")\n",
    "for name in df.index.values[:]:\n",
    "    image = mpimg.imread(os.path.join(\"data/training\", name + \".jpg\"))[:, :, :channels]\n",
    "    image = resize_image(image)\n",
    "    X.append(image)\n",
    "    Y.append(df.loc[name].values)\n",
    "    \n",
    "    bar.numerator = i\n",
    "    print(bar, end='\\r')\n",
    "    sys.stdout.flush()\n",
    "    i = i + 1\n",
    "\n",
    "X = np.asarray(X)\n",
    "Y = np.asarray(Y)\n",
    "\n",
    "X_train, X_test, Y_train, Y_test = train_test_split(X, Y, test_size=0.5)"
   ]
  },
  {
   "cell_type": "markdown",
   "metadata": {
    "collapsed": true
   },
   "source": [
    "## Create and train the model\n",
    "\n",
    "As the training of the network uses so many images, it lasts a lot.\n",
    "In our case, we used a computer with these specs:\n",
    "\n",
    " - CPU: i7 4790K\n",
    " - RAM: 16 GB\n",
    " - GPU: nVidia GTX 1080\n",
    " \n",
    "Even though those specs are of a high-end computer, the training lasted more than 30 minutes: That is why we saved our trained model."
   ]
  },
  {
   "cell_type": "code",
   "execution_count": 2,
   "metadata": {},
   "outputs": [
    {
     "name": "stdout",
     "output_type": "stream",
     "text": [
      "Load a trained model? [y/N]y\n"
     ]
    },
    {
     "ename": "NameError",
     "evalue": "name 'keras' is not defined",
     "traceback": [
      "\u001b[0;31m---------------------------------------------------------------------------\u001b[0m",
      "\u001b[0;31mNameError\u001b[0m                                 Traceback (most recent call last)",
      "\u001b[0;32m<ipython-input-2-820ece8efad7>\u001b[0m in \u001b[0;36m<module>\u001b[0;34m()\u001b[0m\n\u001b[1;32m      7\u001b[0m     \u001b[0mjson_file\u001b[0m\u001b[0;34m.\u001b[0m\u001b[0mclose\u001b[0m\u001b[0;34m(\u001b[0m\u001b[0;34m)\u001b[0m\u001b[0;34m\u001b[0m\u001b[0m\n\u001b[1;32m      8\u001b[0m \u001b[0;34m\u001b[0m\u001b[0m\n\u001b[0;32m----> 9\u001b[0;31m     \u001b[0mloaded_model\u001b[0m \u001b[0;34m=\u001b[0m \u001b[0mkeras\u001b[0m\u001b[0;34m.\u001b[0m\u001b[0mmodels\u001b[0m\u001b[0;34m.\u001b[0m\u001b[0mmodel_from_json\u001b[0m\u001b[0;34m(\u001b[0m\u001b[0mloaded_model_json\u001b[0m\u001b[0;34m)\u001b[0m\u001b[0;34m\u001b[0m\u001b[0m\n\u001b[0m\u001b[1;32m     10\u001b[0m     \u001b[0mloaded_model\u001b[0m\u001b[0;34m.\u001b[0m\u001b[0mload_weights\u001b[0m\u001b[0;34m(\u001b[0m\u001b[0;34m\"trained_model/weights.h5\"\u001b[0m\u001b[0;34m)\u001b[0m\u001b[0;34m\u001b[0m\u001b[0m\n\u001b[1;32m     11\u001b[0m \u001b[0;34m\u001b[0m\u001b[0m\n",
      "\u001b[0;31mNameError\u001b[0m: name 'keras' is not defined"
     ],
     "output_type": "error"
    }
   ],
   "source": [
    "load = input(\"Load a trained model? [y/N]\")\n",
    "\n",
    "if load.lower() == 'y':\n",
    "    # Load a previosly trained model from files\n",
    "    json_file = open('trained_model/model.json', 'r')\n",
    "    loaded_model_json = json_file.read()\n",
    "    json_file.close()\n",
    "\n",
    "    loaded_model = keras.models.model_from_json(loaded_model_json)\n",
    "    loaded_model.load_weights(\"trained_model/weights.h5\")\n",
    "\n",
    "    sgd = keras.optimizers.SGD(lr=0.1)\n",
    "    loaded_model.compile(loss='mean_squared_error', optimizer=sgd, metrics=['accuracy'])\n",
    "\n",
    "    # Evaluate the model using accuracy\n",
    "    scores = loaded_model.evaluate(x_test, y_test, batch_size=32)\n",
    "    print(\"\\nModel accuracy: {0:.2f}%\".format(scores[1] * 100))\n",
    "else:\n",
    "    # Build the network\n",
    "    model = create_model()\n",
    "    \n",
    "    # Training the model \n",
    "    hist = model.fit(x_train, y_train, validation_data=(x_test, y_test), epochs=10, batch_size=32)\n",
    "    \n",
    "    # Histogram of the training troughout the epochs\n",
    "    plt.figure(figsize=(12, 8))\n",
    "    plt.plot(hist.epoch, hist.history['loss'], label='Test')\n",
    "    plt.plot(hist.epoch, hist.history['val_loss'], label='Validation', linestyle='--')\n",
    "    plt.xlabel(\"Epochs\")\n",
    "    plt.ylabel(\"MSE\")\n",
    "    plt.legend()\n",
    "    plt.savefig('trained_model/histogram.png')\n",
    "\n",
    "    # Save the trained model for future use\n",
    "    model_json = model.to_json()\n",
    "    with open(\"trained_model/model.json\", \"w\") as json_file:\n",
    "        json_file.write(model_json)\n",
    "    model.save_weights(\"trained_model/weights.h5\")\n",
    "\n",
    "    # Evaluate the model using accuracy\n",
    "    scores = model.evaluate(x_test, y_test, batch_size=32)\n",
    "    print(\"\\nModel accuracy: {0:.2f}%\".format(scores[1] * 100))"
   ]
  }
 ],
 "metadata": {
  "kernelspec": {
   "display_name": "Python 3",
   "language": "python",
   "name": "python3"
  },
  "language_info": {
   "codemirror_mode": {
    "name": "ipython",
    "version": 3
   },
   "file_extension": ".py",
   "mimetype": "text/x-python",
   "name": "python",
   "nbconvert_exporter": "python",
   "pygments_lexer": "ipython3",
   "version": "3.6.1"
  }
 },
 "nbformat": 4,
 "nbformat_minor": 2
}
